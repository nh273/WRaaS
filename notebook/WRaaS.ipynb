{
  "nbformat": 4,
  "nbformat_minor": 0,
  "metadata": {
    "colab": {
      "name": "WRaaS.ipynb",
      "provenance": [],
      "collapsed_sections": [],
      "include_colab_link": true
    },
    "kernelspec": {
      "name": "python3",
      "display_name": "Python 3"
    },
    "accelerator": "GPU"
  },
  "cells": [
    {
      "cell_type": "markdown",
      "metadata": {
        "id": "view-in-github",
        "colab_type": "text"
      },
      "source": [
        "<a href=\"https://colab.research.google.com/github/nh273/WRaaS/blob/main/notebook/WRaaS.ipynb\" target=\"_parent\"><img src=\"https://colab.research.google.com/assets/colab-badge.svg\" alt=\"Open In Colab\"/></a>"
      ]
    },
    {
      "cell_type": "code",
      "metadata": {
        "id": "jmjSdBJ7V3fr",
        "colab": {
          "base_uri": "https://localhost:8080/"
        },
        "outputId": "1a0cac84-f548-49b1-a146-a6565d0eea00"
      },
      "source": [
        "%tensorflow_version 1.x\n",
        "!pip install -q gpt-2-simple"
      ],
      "execution_count": null,
      "outputs": [
        {
          "output_type": "stream",
          "text": [
            "TensorFlow 1.x selected.\n",
            "  Building wheel for gpt-2-simple (setup.py) ... \u001b[?25l\u001b[?25hdone\n"
          ],
          "name": "stdout"
        }
      ]
    },
    {
      "cell_type": "code",
      "metadata": {
        "colab": {
          "base_uri": "https://localhost:8080/"
        },
        "id": "yT0uLWlUJvMh",
        "outputId": "8ab96126-b8e0-4a18-ce18-33aaef084263"
      },
      "source": [
        "import gpt_2_simple as gpt2\n",
        "from datetime import datetime\n",
        "from google.colab import files"
      ],
      "execution_count": null,
      "outputs": [
        {
          "output_type": "stream",
          "text": [
            "WARNING:tensorflow:\n",
            "The TensorFlow contrib module will not be included in TensorFlow 2.0.\n",
            "For more information, please see:\n",
            "  * https://github.com/tensorflow/community/blob/master/rfcs/20180907-contrib-sunset.md\n",
            "  * https://github.com/tensorflow/addons\n",
            "  * https://github.com/tensorflow/io (for I/O related ops)\n",
            "If you depend on functionality not listed there, please file an issue.\n",
            "\n"
          ],
          "name": "stdout"
        }
      ]
    },
    {
      "cell_type": "code",
      "metadata": {
        "colab": {
          "base_uri": "https://localhost:8080/"
        },
        "id": "rIXe0nWtJFXZ",
        "outputId": "f6eae894-9319-448b-a67c-57a805d879fd"
      },
      "source": [
        "!nvidia-smi"
      ],
      "execution_count": null,
      "outputs": [
        {
          "output_type": "stream",
          "text": [
            "Thu Jul 29 03:40:19 2021       \n",
            "+-----------------------------------------------------------------------------+\n",
            "| NVIDIA-SMI 470.42.01    Driver Version: 460.32.03    CUDA Version: 11.2     |\n",
            "|-------------------------------+----------------------+----------------------+\n",
            "| GPU  Name        Persistence-M| Bus-Id        Disp.A | Volatile Uncorr. ECC |\n",
            "| Fan  Temp  Perf  Pwr:Usage/Cap|         Memory-Usage | GPU-Util  Compute M. |\n",
            "|                               |                      |               MIG M. |\n",
            "|===============================+======================+======================|\n",
            "|   0  Tesla T4            Off  | 00000000:00:04.0 Off |                    0 |\n",
            "| N/A   44C    P8    10W /  70W |      0MiB / 15109MiB |      0%      Default |\n",
            "|                               |                      |                  N/A |\n",
            "+-------------------------------+----------------------+----------------------+\n",
            "                                                                               \n",
            "+-----------------------------------------------------------------------------+\n",
            "| Processes:                                                                  |\n",
            "|  GPU   GI   CI        PID   Type   Process name                  GPU Memory |\n",
            "|        ID   ID                                                   Usage      |\n",
            "|=============================================================================|\n",
            "|  No running processes found                                                 |\n",
            "+-----------------------------------------------------------------------------+\n"
          ],
          "name": "stdout"
        }
      ]
    },
    {
      "cell_type": "code",
      "metadata": {
        "colab": {
          "base_uri": "https://localhost:8080/"
        },
        "id": "7NyU_2RHJOiW",
        "outputId": "e307e373-a78a-47c5-8e40-e0f6f10f3272"
      },
      "source": [
        "gpt2.download_gpt2(model_name=\"124M\")"
      ],
      "execution_count": null,
      "outputs": [
        {
          "output_type": "stream",
          "text": [
            "Fetching checkpoint: 1.05Mit [00:00, 340Mit/s]                                                      \n",
            "Fetching encoder.json: 1.05Mit [00:00, 5.16Mit/s]\n",
            "Fetching hparams.json: 1.05Mit [00:00, 237Mit/s]                                                    \n",
            "Fetching model.ckpt.data-00000-of-00001: 498Mit [00:28, 17.4Mit/s]                                  \n",
            "Fetching model.ckpt.index: 1.05Mit [00:00, 209Mit/s]                                                \n",
            "Fetching model.ckpt.meta: 1.05Mit [00:00, 6.50Mit/s]\n",
            "Fetching vocab.bpe: 1.05Mit [00:00, 6.56Mit/s]\n"
          ],
          "name": "stderr"
        }
      ]
    },
    {
      "cell_type": "code",
      "metadata": {
        "id": "K39B8TaVJZPF",
        "colab": {
          "base_uri": "https://localhost:8080/"
        },
        "outputId": "717bed4c-a62c-4c6a-c88d-1f37697ba01a"
      },
      "source": [
        "gpt2.mount_gdrive()"
      ],
      "execution_count": null,
      "outputs": [
        {
          "output_type": "stream",
          "text": [
            "Mounted at /content/drive\n"
          ],
          "name": "stdout"
        }
      ]
    },
    {
      "cell_type": "code",
      "metadata": {
        "id": "tQPmvDafJol-",
        "colab": {
          "base_uri": "https://localhost:8080/"
        },
        "outputId": "f45d491a-5788-4298-8416-5a11f8d33e34"
      },
      "source": [
        "sess = gpt2.start_tf_sess()\n",
        "runname = '2021Jul09'\n",
        "\n",
        "gpt2.finetune(sess,\n",
        "              dataset='winemag.csv',\n",
        "              model_name='124M',\n",
        "              steps=1000,\n",
        "              restore_from='fresh',\n",
        "              run_name=runname,\n",
        "              print_every=10,\n",
        "              sample_every=200,\n",
        "              save_every=500\n",
        "              )"
      ],
      "execution_count": null,
      "outputs": [
        {
          "output_type": "stream",
          "text": [
            "WARNING:tensorflow:From /usr/local/lib/python3.7/dist-packages/gpt_2_simple/src/sample.py:17: where (from tensorflow.python.ops.array_ops) is deprecated and will be removed in a future version.\n",
            "Instructions for updating:\n",
            "Use tf.where in 2.0, which has the same broadcast rule as np.where\n",
            "Loading checkpoint models/124M/model.ckpt\n",
            "INFO:tensorflow:Restoring parameters from models/124M/model.ckpt\n"
          ],
          "name": "stdout"
        },
        {
          "output_type": "stream",
          "text": [
            "100%|██████████| 1/1 [00:00<00:00,  7.23it/s]"
          ],
          "name": "stderr"
        },
        {
          "output_type": "stream",
          "text": [
            "Loading dataset...\n"
          ],
          "name": "stdout"
        },
        {
          "output_type": "stream",
          "text": [
            "\n"
          ],
          "name": "stderr"
        },
        {
          "output_type": "stream",
          "text": [
            "dataset has 1533677 tokens\n",
            "Training...\n",
            "[10 | 29.77] loss=2.83 avg=2.83\n",
            "[20 | 51.33] loss=2.72 avg=2.78\n",
            "[30 | 73.10] loss=2.82 avg=2.79\n",
            "[40 | 95.16] loss=2.59 avg=2.74\n",
            "[50 | 117.45] loss=2.61 avg=2.72\n",
            "[60 | 139.94] loss=2.42 avg=2.66\n",
            "[70 | 162.61] loss=2.46 avg=2.63\n",
            "[80 | 185.45] loss=2.46 avg=2.61\n",
            "[90 | 208.52] loss=2.39 avg=2.59\n",
            "[100 | 231.63] loss=2.33 avg=2.56\n",
            "[110 | 254.75] loss=2.39 avg=2.54\n",
            "[120 | 277.85] loss=2.38 avg=2.53\n",
            "[130 | 301.01] loss=2.38 avg=2.52\n",
            "[140 | 324.08] loss=2.41 avg=2.51\n",
            "[150 | 347.14] loss=2.34 avg=2.50\n",
            "[160 | 370.17] loss=2.32 avg=2.49\n",
            "[170 | 393.22] loss=2.14 avg=2.46\n",
            "[180 | 416.27] loss=2.21 avg=2.45\n",
            "[190 | 439.30] loss=2.22 avg=2.44\n",
            "[200 | 462.35] loss=2.41 avg=2.43\n",
            "======== SAMPLE 1 ========\n",
            " on showing some potential for future development. The wine is a bit tight on the palate due to a mix of earth, leather and licorice. A hint of orange peel gives it structure but it shows good complexity and purity.<|endoftext|>\n",
            "<|startoftext|>A very pretty nose of raspberry and blackberry is followed by tart blackberry sauce and a spicy herbal element. It offers a wealth of acidity to the texture. This is an attractive wine.<|endoftext|>\n",
            "<|startoftext|>Grapé-tastes are not the biggest issue at this blend of 54% Syrah, 28% Counoise, 23% Alicante Sauv and 9% Syrah. It's unusual in a southern Washington Pinot Noir—a blend with smaller percentages of Syrah and Grenache. Earth, herb, fresh fruit and a bit of leather are the primary aromas. There is a bit of a heat under the layers of red tea, a dash of caramelized apple and a lick of earthy acidity.<|endoftext|>\n",
            "<|startoftext|>A dark, very dusty style of Cabernet based on the Atlas Mountains vineyard, this is light bodied and smooth in texture, like an afterthought. It finishes with a strong sense of heat and complexity.<|endoftext|>\n",
            "<|startoftext|>Very dark, almost-black plum aromas make for a somewhat light and reserved nose on this bottling by D.T. Chatterman that is a bit unyielding to the mouthfeel of this wine. The palate mixes blackberry, black cherry and leather with a hint of graphite, a strong note of spice and more black pepper comes first through the finish.<|endoftext|>\n",
            "<|startoftext|>A blend of Syrah, Viognier, Pinot Blanc and Cab Franc, this wine is a wine of pure French oak, from Pinot Noir from the famous region. It is medium-bodied in flavor, with moderate acids, but plenty of acidity. It spent 18 months in a stainless steel-powered barrel, and it's still light and easy to enjoy.<|endoftext|>\n",
            "<|startoftext|>This is the new release from the winery's new Pinot Blanc. Light bodied and easy on the palate, the fruit is bright and bright, with more concentration to the black pepper than the tannins.<|endoftext|>\n",
            "<|startoftext|>It's rare to see this in a variety labeled a new-vintage Pinot. This was sourced from a rather low caliber site in the Chousan Mountains. It's fresh and fruity, with ripe red raspberries and cherry blossoms and a lick of mint.<|endoftext|>\n",
            "<|startoftext|>This is a blend of 58% Sangiovese and 49% Zinfandel. It's soft in tannins and aromas of clove and black pepper. The fruit aromas are lightly sour compared to the more structured flavors, with a touch of green peach and wet rocks. Drink 2020–2034.<|endoftext|>\n",
            "<|startoftext|>This is a big, bold, rich, dark-pressed wine that gives off some rather dark notes and flavors and a light, concentrated texture. It's a lot to enjoy right now but it might show some intrigue at first.<|endoftext|>\n",
            "<|startoftext|>A blend of Chardonnay and Syrah, this is a slightly dry Pinot. It possesses medium-bodied fruit flavors, a moderate price with nice density as well as a lovely texture. Best late 2018.<|endoftext|>\n",
            "<|startoftext|>There is a lot going on in this wine, with the tannins showing a bit of a lift, but a slight tannic grippyness. This is a very soft wine, with good structure and length.<|endoftext|>\n",
            "<|startoftext|>Cabernet Sauvignon has an interesting label (and the proper term: Bordeaux-style) to suggest. This includes 60% Grenache Blanc and 9% Sangiovese. It's nicely balanced in structure, with a core of earth and barrel spice as well as a touch of tannic structure. The fruit is just beginning to show off the oak, as will be evident in the second half of the tasting.<|endoftext|>\n",
            "<|startoftext|>Made from 64% Cabernet Sauvignon with the rest equal parts Merlot and Cabernet Franc-based, here are five varieties; the Merlot makes up just 10%. The resulting blend of Syrah, Zinfandel, Cabernet Sauvignon, and Petite Sirah also\n",
            "\n",
            "[210 | 497.25] loss=2.27 avg=2.43\n",
            "[220 | 520.44] loss=2.31 avg=2.42\n",
            "[230 | 543.55] loss=2.22 avg=2.41\n",
            "[240 | 566.62] loss=2.20 avg=2.40\n",
            "[250 | 589.67] loss=2.32 avg=2.40\n",
            "[260 | 612.71] loss=2.25 avg=2.39\n",
            "[270 | 635.78] loss=2.32 avg=2.39\n",
            "[280 | 658.88] loss=2.19 avg=2.38\n",
            "[290 | 681.98] loss=2.28 avg=2.38\n",
            "[300 | 705.07] loss=2.25 avg=2.37\n",
            "[310 | 728.17] loss=2.14 avg=2.36\n",
            "[320 | 751.26] loss=2.28 avg=2.36\n",
            "[330 | 774.36] loss=2.30 avg=2.36\n",
            "[340 | 797.44] loss=2.12 avg=2.35\n",
            "[350 | 820.54] loss=2.10 avg=2.34\n",
            "[360 | 843.62] loss=2.21 avg=2.34\n",
            "[370 | 866.71] loss=2.20 avg=2.33\n",
            "[380 | 889.80] loss=2.14 avg=2.33\n",
            "[390 | 912.89] loss=2.10 avg=2.32\n",
            "[400 | 935.99] loss=2.10 avg=2.31\n",
            "======== SAMPLE 1 ========\n",
            "|startoftext|>The oak (71% new French) remains a challenge. It seems to linger on the palate, with barrel notes of vanilla, brown sugar and wood spice. It's not sweet or complex as it sounds.<|endoftext|>\n",
            "<|startoftext|>Aromatically appealing, this wine blends the flavors with notes of flowers and green wood. The fruit seems to be holding back, as the barrel flavors persist in the finish.<|endoftext|>\n",
            "<|startoftext|>This blend of 60% Syrah with 21% Cabernet Sauvignon offers an intriguing nose and herbaceous texture that builds from the first sip to the last swallow. Once sipped, its flavors linger with flavors of blackberry, pepper and dried herb, remaining layered and well layered.<|endoftext|>\n",
            "<|startoftext|>Crisply fresh apple, pear and a zesty suggestion of baking spice are the dominant flavors on the nose of this bottling, with a slight streak of caramel. The palate shows light acidity and a zesty character around the palate, with peach and apricot flavors that linger on the finish.<|endoftext|>\n",
            "<|startoftext|>From one of the region's highest concentrations of Klipsun and Pismo clones, this wine offers fresh fruit and lively acidity on the nose, along with aromas of honeysuckle and dried apricots. The palate is light with apple flesh, lemon drop, honey and orange peel flavors, with citrus fleshiness that continues through a lengthy finish.<|endoftext|>\n",
            "<|startoftext|>This wine is 100% varietal at first, with aromas of dried fruit, vanilla, spice and herb. The flavors are velvety, with ripe cherries, pear flavors, floral highlights and spice notes throughout. This blend of Cabernet Sauvignon (43%), Merlot (19%) and Petit Verdot brings more of a sweetness. Aromas of orange peel, herb, fresh herbs and cherry lead to a palate that offers a long finish that continues through a lingering bite of mint and pepper.<|endoftext|>\n",
            "<|startoftext|>Vibrant aromas of cherry and herbs lead to lightly spritzy fruit flavors, framed by firm, plush tannins. It has good acid balance and a finish with crisp flavors, with good balance between freshness and length.<|endoftext|>\n",
            "<|startoftext|>The aromas lead to notes of smoke, herbs and game that are light in proportion. The dark fruit flavors are full and well balanced and the wine has a lengthy finish.<|endoftext|>\n",
            "<|startoftext|>Made entirely from Pinot Noir grapes, this wine opens in a mix of herb and stone fruit, from blackberry to black cherry and cedar.<|endoftext|>\n",
            "<|startoftext|>Tart cranberry, cola, crushed lavender and anise aromas show on the entry of this estate vineyard-designate. Those dark fruits come off as quite sweet, making it hard to restrain as much acidity as possible.<|endoftext|>\n",
            "<|startoftext|>Named for the producer's parents' daughter, this blend of 40% Merlot and 40% Cabernet Sauvignon delivers aromas of earth, dark fruit and flowers with a mineral and spice element. The dark fruit flavors are light and fresh with a lively acidity that should benefit from time in the cellar. Drink 2018–2025.<|endoftext|>\n",
            "<|startoftext|>Ripe and juicy, this is medium to full bodied, with a rich chocolate and plum scent and ample alcohol.<|endoftext|>\n",
            "<|startoftext|>Light and fresh, this offers aromas of vanilla, baked berries and spice that lead to a palate bursting with bright, spicy blackberries. It offers plenty of power and length in terms of power and length, with a lengthy finish that's reminiscent of chocolaty oak.<|endoftext|>\n",
            "<|startoftext|>Tight juniper and anise are prominent highlights on this wine, which is framed by light-toasted oak and a light layer of leather. There's a pleasing tension between the fruit and barrel, with hints of green apple and vanilla on the finish.<|endoftext|>\n",
            "<|startoftext|>The aromas bring notes of mineral, spice and plum. The flavors are firm and concentrated, showing great concentration and length. It shows a pleasing mix of citrus, mineral and wood flavor.<|endoftext|>\n",
            "<|startoftext|>This brings a lot of interest, with aromas of vanilla, baking spice, cherry and pencil lead. The tann\n",
            "\n",
            "[410 | 969.26] loss=2.07 avg=2.30\n",
            "[420 | 992.35] loss=2.11 avg=2.30\n",
            "[430 | 1015.49] loss=2.04 avg=2.29\n",
            "[440 | 1038.63] loss=2.06 avg=2.29\n",
            "[450 | 1061.78] loss=2.08 avg=2.28\n",
            "[460 | 1084.94] loss=2.12 avg=2.28\n",
            "[470 | 1108.06] loss=2.14 avg=2.27\n",
            "[480 | 1131.17] loss=2.16 avg=2.27\n",
            "[490 | 1154.29] loss=2.06 avg=2.26\n",
            "[500 | 1177.39] loss=2.06 avg=2.26\n",
            "Saving checkpoint/2021Jul09/model-500\n",
            "[510 | 1203.69] loss=2.08 avg=2.25\n",
            "[520 | 1226.92] loss=1.93 avg=2.25\n",
            "[530 | 1250.01] loss=2.19 avg=2.24\n",
            "[540 | 1273.07] loss=2.09 avg=2.24\n",
            "[550 | 1296.18] loss=1.89 avg=2.23\n",
            "[560 | 1319.34] loss=2.03 avg=2.23\n",
            "[570 | 1342.53] loss=2.12 avg=2.23\n",
            "[580 | 1365.71] loss=2.01 avg=2.22\n",
            "[590 | 1388.84] loss=1.98 avg=2.22\n",
            "[600 | 1411.93] loss=2.10 avg=2.21\n",
            "======== SAMPLE 1 ========\n",
            " around that point. If you are looking for a fine, fine, solid effort, this wine should offer nothing in comparison. It offers just a hint of sweetness; a dry/sweet finish.<|endoftext|>\n",
            "<|startoftext|>Made from 70% Petit Verdot and 30% Merlot, this wine is a blend of Grenache, Cinsault and Mourvèdre. Soft, juicy and fruity, it's not for everyone but could be a good mix and serve as a warm accompaniment to an evening of steak or a summer picnic, as it would pair with plenty of white meat.<|endoftext|>\n",
            "<|startoftext|>A Bordeaux-style blend that gets the higher finish of Merlot and Cab from the producer rather than Washington, this has a light, floral nose that's followed by ripe fruit flavors. It's easy to sip and enjoy.<|endoftext|>\n",
            "<|startoftext|>This wine is mostly Cabernet Sauvignon, but it also has a handful of Merlot and Balsamic Vineyard Syrah. The blend is quite full but still light and lively, with aromas of red cherry, herbs and black tea with the aromas seeming heavy in the midpalate and finish. The fruit and barrel flavors are more restrained.<|endoftext|>\n",
            "<|startoftext|>Black cherry, blackberry and blackberry notes ride atop a rich, luxurious nose with lots of cassis, espresso, espresso grinds and coffee. The palate is also plush, with blackberry flavors, a firm squeeze and a hint of bitterness.<|endoftext|>\n",
            "<|startoftext|>With its sleek, elegant mouthfeel and integrated oak, this wine from a historic winery can stand up to its heritage and price. Balanced blackberry, chocolate cake and black cherry flavors lead to a full-bodied palate with well-defined, ripe tannins.<|endoftext|>\n",
            "<|startoftext|>This is a light, stylish and approachable wine, not afraid to show an exotic twist on its own or in its surroundings. It's elegant and subtle with a buttery note that helps it stand out on its own, or be a good place to start looking for a dessert wine that is a bit oaky.<|endoftext|>\n",
            "<|startoftext|>The new Brixe blend includes 17% Merlot, 6% Cabernet Sauvignon, 3% Petit Verdot and 2% Malbec. It shows the fruit's freshness, with pretty cherry flavors alongside blackberry-laden tannins. There's nice purity, too, with plenty of fine-grained, leathery tannin and enough acidity that the fruit is not too thin.<|endoftext|>\n",
            "<|startoftext|>In the bottle, there is plenty of cedar and tannin wrapped around black cherry and cassis fruit. The barrel flavors are soft, and there is a streak of earth.<|endoftext|>\n",
            "<|startoftext|>This is a dark red that has a pleasing mix of scents, flavors and nuances. It's a very dark red in color, with concentrated but not sweet fruit flavors and a firm squeeze with tannins.<|endoftext|>\n",
            "<|startoftext|>Dark strawberry dominates in the nose, with cedar, vanilla, blackberry juice and crushed coffee elements. The palate is full bodied but also elegant, containing light flavors of plum and currant, with a hint of herb and stem.<|endoftext|>\n",
            "<|startoftext|>Aromas like charred chicken and dark cherries lead to full-bodied blackberry and barrel flavors which are lightly sprinkled with coffee notes.<|endoftext|>\n",
            "<|startoftext|>This wine does not always seem as smooth as its peers, making it a good option for most meals and everyday vintages. Tuck it away for a while at room temp until after your next meal.<|endoftext|>\n",
            "<|startoftext|>A big blackberry-raspberry flavor gives this full-bodied wine an edgy, almost sweet flavor profile that doesn't show its full potential. There is a bit of grit on the finish, so it should age well for a few years.<|endoftext|>\n",
            "<|startoftext|>A light-bodied white, this offers light notes of peach and grapefruit, and more vanilla and butterscotch than strawberry. The acids are high-toned, and the lingering finish provides the fruit for the wine.<|endoftext|>\n",
            "<|startoftext|>The blend holds 11% Viognier, which brings the aromas of lemon juice, vanilla and jasmine. The flavors\n",
            "\n",
            "[610 | 1445.04] loss=2.04 avg=2.21\n",
            "[620 | 1468.14] loss=2.03 avg=2.21\n",
            "[630 | 1491.24] loss=1.98 avg=2.20\n",
            "[640 | 1514.40] loss=2.02 avg=2.20\n",
            "[650 | 1537.57] loss=2.03 avg=2.19\n",
            "[660 | 1560.75] loss=2.12 avg=2.19\n",
            "[670 | 1583.90] loss=1.93 avg=2.19\n",
            "[680 | 1607.02] loss=1.93 avg=2.18\n",
            "[690 | 1630.14] loss=2.08 avg=2.18\n",
            "[700 | 1653.22] loss=1.94 avg=2.17\n",
            "[710 | 1676.29] loss=1.99 avg=2.17\n",
            "[720 | 1699.37] loss=2.01 avg=2.17\n",
            "[730 | 1722.43] loss=2.05 avg=2.17\n",
            "[740 | 1745.49] loss=1.95 avg=2.16\n",
            "[750 | 1768.54] loss=1.92 avg=2.16\n",
            "[760 | 1791.60] loss=1.93 avg=2.15\n",
            "[770 | 1814.66] loss=1.81 avg=2.15\n",
            "[780 | 1837.72] loss=2.03 avg=2.14\n",
            "[790 | 1860.79] loss=1.96 avg=2.14\n",
            "[800 | 1883.88] loss=1.93 avg=2.14\n",
            "======== SAMPLE 1 ========\n",
            " pasta.<|endoftext|>\n",
            "<|startoftext|>Rich, leathery tobacco and coffee flavors mark this estate-grown wine that will appeal to people who are interested in more savory, meaty and meaty, its tannins concentrated and firm. From a warm section of the historic vineyard, the wine has a light, crisp edge to the fruit, the oak and the finish.<|endoftext|>\n",
            "<|startoftext|>This wine's red fruit starts out tight, followed by savory herb and cedar notes. The midpalate delivers lots of tannins, but falls flat along the way, needing further bottle age to open up.<|endoftext|>\n",
            "<|startoftext|>The aromas start out locked up, with notes of plum, smoke, orange peel and white pepper. The flavors are lighter in style and bring the fruit in balance, with lightly peppery notes on the finish. The sense of balance is hard to match to the variety.<|endoftext|>\n",
            "<|startoftext|>Faint red fruits arise from the barrel fermentation, with raspberry, cola and caramel touches. The fruit remains in balance, but seems a bit blocky in the finish.<|endoftext|>\n",
            "<|startoftext|>This is blended with 6% Roussanne. Toasty aromas and sharp-toned red fruits power the palate along with notes of plum, pepper and citrus.<|endoftext|>\n",
            "<|startoftext|>Aromas of black cherry, cocoa, vinaigrette and herb lead to lighter-colored fruit flavors that have a pleasing sense of balance. The barrel aging contributed some reduction.<|endoftext|>\n",
            "<|startoftext|>Somewhat restrained aromas of blueberry, bacon fat, wet rocks, vanilla, daffodils, vanilla-chocolate and plum sauce lead to elegant fruit flavors with a refreshing sense of freshness that linger on the finish.<|endoftext|>\n",
            "<|startoftext|>This appealing wine from one of the appellation's most reliable producer-favor managers brings to mind Chardonnay from the early days of Riesling, which were very successful. Its spicy nose starts with a dried grape-juice element followed by racy pineapple and orange-plum skins. The fruit is concentrated and spicy, with lime zest and ripe lemon pith. It's tight and tight right from the first sip, not having the full ripeness at first but proving to be a fine and well-proportioned drink for fans of the grape.<|endoftext|>\n",
            "<|startoftext|>Barrel aromas of cinnamon, green herbs, dried black plums and dried flowers lead into a palate that's relatively light and tart, with cranberry fruit and tart acids.<|endoftext|>\n",
            "<|startoftext|>Aromas of dried cranberry, herb, fresh boysenberry and wet slate seem especially interesting at first on the nose of this bottling. The palate shows blueberry and fresh plum, with the tannins carrying a slightly soft, grippy feel.<|endoftext|>\n",
            "<|startoftext|>This is a light, creamy expression of the variety, with notes of peach, lemon blossom and pear. The flavors coat the palate slowly cutting into fruit flavors that show a bit of warmth.<|endoftext|>\n",
            "<|startoftext|>The aromas of fresh mint, dried herbs, dried flower and orange peel give depth to this wine that shows the richness of the fruit on the back palate. The ripe flavors coat the tongue with a slight herbal character.<|endoftext|>\n",
            "<|startoftext|>Sourced from Monterey County and Santa Barbara County, this wine brings aromas of dried sage, pencil shavings, coffee, flower and herbs. The coffee and spice flavors are dense and flavorful with the coffee notes seeming a bit dried out on the finish.<|endoftext|>\n",
            "<|startoftext|>A rich, round cranberry flavor accompanies a juicy texture on this wine that is dry, juicy and broad upon entry. The mouthfeel is soft but a bit sticky and a pleasing hint of chocolate emerges on the finish. It can be enjoyed as a standard everyday drink.<|endoftext|>\n",
            "<|startoftext|>This wine from a regional powerhouse impresses with its creamy, spicy nose, with aromas of white pepper, lemon juice, wet river stone and sour yellow flower. The palate is full bodied, tight and supple, backed by crisp acidity.<|endoftext|>\n",
            "<|startoftext|>Warm, dusty red fruit greets you from the get-go, with a touch of black tea and a touch of vanilla. The\n",
            "\n",
            "[810 | 1917.02] loss=1.96 avg=2.13\n",
            "[820 | 1940.12] loss=1.94 avg=2.13\n",
            "[830 | 1963.24] loss=1.97 avg=2.13\n",
            "[840 | 1986.36] loss=1.85 avg=2.12\n",
            "[850 | 2009.52] loss=1.90 avg=2.12\n",
            "[860 | 2032.69] loss=1.84 avg=2.11\n",
            "[870 | 2055.81] loss=1.87 avg=2.11\n",
            "[880 | 2078.94] loss=1.88 avg=2.11\n",
            "[890 | 2102.03] loss=1.76 avg=2.10\n",
            "[900 | 2125.15] loss=1.91 avg=2.10\n",
            "[910 | 2148.25] loss=1.91 avg=2.09\n",
            "[920 | 2171.35] loss=1.86 avg=2.09\n",
            "[930 | 2194.46] loss=1.87 avg=2.09\n",
            "[940 | 2217.53] loss=1.87 avg=2.08\n",
            "[950 | 2240.63] loss=1.90 avg=2.08\n",
            "[960 | 2263.70] loss=1.89 avg=2.08\n",
            "[970 | 2286.78] loss=1.85 avg=2.07\n",
            "[980 | 2309.86] loss=1.85 avg=2.07\n",
            "[990 | 2332.93] loss=1.78 avg=2.06\n",
            "[1000 | 2356.04] loss=1.97 avg=2.06\n",
            "Saving checkpoint/2021Jul09/model-1000\n",
            "WARNING:tensorflow:From /tensorflow-1.15.2/python3.7/tensorflow_core/python/training/saver.py:963: remove_checkpoint (from tensorflow.python.training.checkpoint_management) is deprecated and will be removed in a future version.\n",
            "Instructions for updating:\n",
            "Use standard file APIs to delete files with this prefix.\n"
          ],
          "name": "stdout"
        }
      ]
    },
    {
      "cell_type": "code",
      "metadata": {
        "id": "S8Mqnj27X9bo"
      },
      "source": [
        "gpt2.copy_checkpoint_to_gdrive(run_name='2021Jul09')"
      ],
      "execution_count": null,
      "outputs": []
    },
    {
      "cell_type": "code",
      "metadata": {
        "id": "_okCdyXRsvrj"
      },
      "source": [
        "gpt2.copy_checkpoint_from_gdrive(run_name=runname)"
      ],
      "execution_count": null,
      "outputs": []
    },
    {
      "cell_type": "code",
      "metadata": {
        "colab": {
          "base_uri": "https://localhost:8080/"
        },
        "id": "7vOZO_NLtEfa",
        "outputId": "b66c3fa7-7a6a-4436-e392-6d36b82e7d25"
      },
      "source": [
        "gpt2.generate(sess, run_name=runname)"
      ],
      "execution_count": null,
      "outputs": [
        {
          "output_type": "stream",
          "text": [
            "<|startoftext|>Hailing from the winery's estate vineyard, this wine is big, oaky and racy, with deep flavors of caramel apple, yellow melon, lime juice and a touch of brioche. Buttery and grippy, it has a luxurious, textural mouthfeel, the vivid acidity and lingering finish, and the finish, a taste of honey cracker, that lingers.<|endoftext|>\n",
            "<|startoftext|>This wine is two-thirds Viognier and one-third Roussanne. It opens with a heady mix of dusty vanilla and blackberry, then turns savory and earthy with a touch of mushroom. Fleshy and brambly, it's a big wine that seems to be slowly unraveling its layers of complexity and savory details. Drink now through 2020.<|endoftext|>\n",
            "<|startoftext|>A blend of Cabernet Sauvignon (55%), Merlot (26%) and Cabernet Franc (25%), this wine offers aromas and flavors of plum, plum, herb and spice. The tannins are firm but not aggressive, providing a firm squeeze on the palate that will help this wine age gracefully in the years to come.<|endoftext|>\n",
            "<|startoftext|>There's a whirliness to the nose of this bottling that belies its alcohol level, revealing light smoked plums, tobacco and pencil lead. The palate is quite broad, with flavors of sour cherries, figs and cedar, all held together by savory thyme, mint and clove.<|endoftext|>\n",
            "<|startoftext|>This wine is made in small amounts by opening the gate of fermentation and placing it in the primary fermentation. The aromas bring notes of raspberry, black cherry and fresh herb, followed by notes of high-toned red fruit and citrus peel. The palate is full bodied, acid-laced and definitely ripe, showing a sense of grace.<|endoftext|>\n",
            "<|startoftext|>This wine has an intriguing nose of green herbs, dried leaves and citrus, with a soda flavor. It's soft in feel with a quick finish.<|endoftext|>\n",
            "<|startoftext|>This wine is a blend of Grenache (55%), Cabernet Sauvignon (25%), Syrah (20%) and Mourvèdre. It offers aromas and flavors of dried herbs, cocoa, vanilla and cherry. It's full bodied with a firm feel and sweet fruit flavors.<|endoftext|>\n",
            "<|startoftext|>This wine has an aromatically intriguing aroma like cinnamon toast, and flavors that are rich and luxurious in feel. It's a full-bodied expression of the variety and variety that lingers on the finish. It's been aged in French oak for 17 months, almost three years as well as French oak for 52% of the blend.<|endoftext|>\n",
            "<|startoftext|>Aromas of cocoa, vanilla, herb and cherry are followed by plump, plump fruit flavors that linger. It brings a lot of appeal.<|endoftext|>\n",
            "<|startoftext|>This is a big, full-bodied, concentrated and chocolatey wine with a smooth texture that retains a sense of purity. It smells like black pepper, blackberry, clove and truffle and tastes like dark chocolate and blackberry jam, with a creamy, firm texture and firm tannins.<|endoftext|>\n",
            "<|startoftext|>This wine holds 20% Merlot and 20% Cabernet Franc. Aromas of vanilla, coffee, tobacco and plum are followed by generous, full-bodied flavors. It shows a sense of elegance with a lingering finish.<|endoftext|>\n",
            "<|startoftext|>The aromas are quite restrained, with notes of raspberry, maple syrup and spice. The palate is light in style with the oak influence seeming a bit primary.<|endoftext|>\n",
            "<|startoftext|>This wine is a blend of Cabernet Sauvignon (42%), Merlot (40%), Cabernet Franc (10%) and Malbec. The aromas offer notes of coffee, vanilla, green herbs and cherry. It's full flavored with a firm feel and plush fruit flavors that linger.<|endoftext|>\n",
            "<|startoftext|>The aromas of raspberry, dried herbs, wood spice and cherry are brooding. The flavors are full bodied and fruit forward, showing a sense of elegance.<|endoftext|>\n",
            "<|startoftext|>This wine is a blend of Cabernet Sauvignon (38%), Merlot (28%), Syrah (14%), Cab\n"
          ],
          "name": "stdout"
        }
      ]
    },
    {
      "cell_type": "code",
      "metadata": {
        "colab": {
          "base_uri": "https://localhost:8080/"
        },
        "id": "j8gCzetxs36I",
        "outputId": "421b1170-3d6f-4ce1-ad61-230f7a0818bd"
      },
      "source": [
        "sess = gpt2.start_tf_sess()\n",
        "gpt2.load_gpt2(sess, run_name=runname)"
      ],
      "execution_count": null,
      "outputs": [
        {
          "output_type": "stream",
          "text": [
            "Loading checkpoint checkpoint/2021Jul09/model-1000\n",
            "INFO:tensorflow:Restoring parameters from checkpoint/2021Jul09/model-1000\n"
          ],
          "name": "stdout"
        }
      ]
    },
    {
      "cell_type": "code",
      "metadata": {
        "id": "BqIc9guLs-8R"
      },
      "source": [
        "for temp_10 in range(7, 12):\n",
        "  temp = temp_10 / 10\n",
        "  gen_file = f\"/content/drive/MyDrive/WRaaS/gentext_{temp_10}.txt\"\n",
        "  gpt2.generate_to_file(sess,\n",
        "                destination_path=gen_file,\n",
        "                run_name=runname,\n",
        "                length=250,\n",
        "                temperature=temp,\n",
        "                prefix=\"|startoftext|>\",\n",
        "                nsamples=1000,\n",
        "                batch_size=20\n",
        "                )"
      ],
      "execution_count": null,
      "outputs": []
    }
  ]
}